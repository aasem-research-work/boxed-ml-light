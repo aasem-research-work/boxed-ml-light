{
 "cells": [
  {
   "cell_type": "code",
   "execution_count": 12,
   "id": "f614c253-cc4f-4e85-817f-dbd7c5e473c3",
   "metadata": {},
   "outputs": [],
   "source": [
    "v_workspace='./exp_Xception'\n",
    "v_path_dataset='../data/agriculture/rice_image_dataset'\n",
    "v_input_shape=(224, 224, 3)\n",
    "v_weights='imagenet'\n",
    "\n",
    "v_batch_size=32 \n",
    "v_epochs = 30\n",
    "v_metrics=['MeanSquaredError','AUC','Precision','Recall','accuracy']\n",
    "\n",
    "\n",
    "v_image_size=(v_input_shape[0],v_input_shape[1])\n",
    "v_color_mode=\"grayscale\" if v_input_shape[2]==1 else \"rgb\" # \"rbga\"\n",
    "if v_color_mode==\"grayscale\" and v_weights=='imagenet':\n",
    "    v_weights=None\n",
    "    print (\"weights set to null as color mode is grayscale\")"
   ]
  },
  {
   "cell_type": "code",
   "execution_count": 13,
   "id": "58d29048-bc80-4cd2-8943-9ea105b5eb63",
   "metadata": {},
   "outputs": [
    {
     "data": {
      "text/plain": [
       "'imagenet'"
      ]
     },
     "execution_count": 13,
     "metadata": {},
     "output_type": "execute_result"
    }
   ],
   "source": [
    "v_weights"
   ]
  },
  {
   "cell_type": "code",
   "execution_count": 15,
   "id": "39ef7621-c53d-426a-ac07-6546fda9ec55",
   "metadata": {},
   "outputs": [
    {
     "name": "stdout",
     "output_type": "stream",
     "text": [
      "tensorboard --logdir=./exp_Xception/tensorboard --host 0.0.0.0 --port 6006\n"
     ]
    }
   ],
   "source": [
    "print (\"tensorboard --logdir=\"+v_workspace+\"/tensorboard --host 0.0.0.0 --port 6006\")"
   ]
  },
  {
   "cell_type": "code",
   "execution_count": 11,
   "id": "2acb2e5d-9dce-4eb4-8612-f440d909ed74",
   "metadata": {},
   "outputs": [
    {
     "ename": "NameError",
     "evalue": "name 'v_workspace' is not defined",
     "output_type": "error",
     "traceback": [
      "\u001b[0;31m---------------------------------------------------------------------------\u001b[0m",
      "\u001b[0;31mNameError\u001b[0m                                 Traceback (most recent call last)",
      "Input \u001b[0;32mIn [11]\u001b[0m, in \u001b[0;36m<cell line: 1>\u001b[0;34m()\u001b[0m\n\u001b[0;32m----> 1\u001b[0m \u001b[43mv_workspace\u001b[49m\n",
      "\u001b[0;31mNameError\u001b[0m: name 'v_workspace' is not defined"
     ]
    }
   ],
   "source": [
    "v_workspace"
   ]
  },
  {
   "cell_type": "code",
   "execution_count": null,
   "id": "65f20c29-b646-451f-82b6-405b3851c1bf",
   "metadata": {},
   "outputs": [],
   "source": []
  }
 ],
 "metadata": {
  "kernelspec": {
   "display_name": "Python 3",
   "language": "python",
   "name": "python3"
  },
  "language_info": {
   "codemirror_mode": {
    "name": "ipython",
    "version": 3
   },
   "file_extension": ".py",
   "mimetype": "text/x-python",
   "name": "python",
   "nbconvert_exporter": "python",
   "pygments_lexer": "ipython3",
   "version": "3.9.12"
  }
 },
 "nbformat": 4,
 "nbformat_minor": 5
}
