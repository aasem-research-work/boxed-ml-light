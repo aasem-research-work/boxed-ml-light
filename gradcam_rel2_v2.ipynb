{
 "cells": [
  {
   "cell_type": "markdown",
   "id": "d1465ff5-7298-44f1-94e1-cd4739c937ec",
   "metadata": {},
   "source": [
    "# GradCAM\n",
    "The Grad-CAM algorithm provides a way to identify what parts of an image contribute most to the output of a classifier deep network."
   ]
  },
  {
   "cell_type": "code",
   "execution_count": 1,
   "id": "0f8e667e-e18b-41e7-86c7-e47ee26ff8a2",
   "metadata": {},
   "outputs": [],
   "source": [
    "import os, json\n",
    "import numpy as np\n",
    "import tensorflow as tf\n",
    "from tensorflow import keras\n",
    "from keras.preprocessing import image\n",
    "\n",
    "import matplotlib.pyplot as plt\n",
    "import matplotlib.image as mpimg\n",
    "import matplotlib.cm as cm\n",
    "from IPython.display import Image, display\n",
    "\n",
    "tf.compat.v1.disable_eager_execution()\n",
    "import gradcamutils"
   ]
  },
  {
   "cell_type": "markdown",
   "id": "8db44332-49b5-424d-a9a4-62e7292d4d21",
   "metadata": {},
   "source": [
    "## Definitions"
   ]
  },
  {
   "cell_type": "code",
   "execution_count": 2,
   "id": "7637bd90-7198-41e3-9418-02dc6ebf60c5",
   "metadata": {},
   "outputs": [],
   "source": [
    "v_num_of_classes=30 #not needed\n",
    "v_input_shape=(224, 224, 3)\n",
    "v_path_dataset='../data/sampledataset'\n",
    "v_image_size=(224,224)\n",
    "v_color_mode=\"rgb\" # \"rgb\", \"rgba\", or \"grayscale\"\n",
    "v_batch_size=16 \n",
    "v_epochs = 10\n",
    "\n",
    "v_metrics=['MeanSquaredError','AUC','Precision','Recall','accuracy']\n",
    "v_workspace='./exp'\n"
   ]
  },
  {
   "cell_type": "markdown",
   "id": "41c38e24-9a78-4745-bf1f-1d7e1a5406d1",
   "metadata": {},
   "source": [
    "## Functions"
   ]
  },
  {
   "cell_type": "code",
   "execution_count": 3,
   "id": "88e76564-4950-4bf7-9f06-19fd4eab92e0",
   "metadata": {},
   "outputs": [],
   "source": [
    "def load_JSON_file( path_to_file):\n",
    "    try:\n",
    "        obj = open(path_to_file)\n",
    "        data = json.load(obj)        \n",
    "        obj.close()\n",
    "        retObj=json.loads(json.dumps(data))\n",
    "    except Exception as e:\n",
    "        retObj=e\n",
    "    return retObj\n",
    "\n",
    "def gen_file_name(filename):\n",
    "    newfilename=filename\n",
    "    s=newfilename.rfind('.')\n",
    "    e=len(newfilename)\n",
    "    sub=newfilename[s : e]    \n",
    "    newfilename=newfilename.replace(sub,'_gradcam'+sub)\n",
    "    return newfilename\n",
    "\n",
    "def get_img_array(img_path, size):\n",
    "    # `img` is a PIL image of size 299x299\n",
    "    img = keras.preprocessing.image.load_img(img_path, target_size=size)\n",
    "    # `array` is a float32 Numpy array of shape (299, 299, 3)\n",
    "    array = keras.preprocessing.image.img_to_array(img)\n",
    "    # We add a dimension to transform our array into a \"batch\"\n",
    "    # of size (1, 299, 299, 3)\n",
    "    array = np.expand_dims(array, axis=0)\n",
    "    return array\n",
    "\n",
    "\n",
    "def make_gradcam_heatmap(img_array, model, last_conv_layer_name, pred_index=None):\n",
    "    # First, we create a model that maps the input image to the activations\n",
    "    # of the last conv layer as well as the output predictions\n",
    "    grad_model = tf.keras.models.Model(\n",
    "        [model.inputs], [model.get_layer(last_conv_layer_name).output, model.output]\n",
    "    )\n",
    "\n",
    "    # Then, we compute the gradient of the top predicted class for our input image\n",
    "    # with respect to the activations of the last conv layer\n",
    "    with tf.GradientTape() as tape:\n",
    "        last_conv_layer_output, preds = grad_model(img_array)\n",
    "        if pred_index is None:\n",
    "            pred_index = tf.argmax(preds[0])\n",
    "        class_channel = preds[:, pred_index]\n",
    "\n",
    "    # This is the gradient of the output neuron (top predicted or chosen)\n",
    "    # with regard to the output feature map of the last conv layer\n",
    "    grads = tape.gradient(class_channel, last_conv_layer_output)\n",
    "\n",
    "    # This is a vector where each entry is the mean intensity of the gradient\n",
    "    # over a specific feature map channel\n",
    "    pooled_grads = tf.reduce_mean(grads, axis=(0, 1, 2))\n",
    "\n",
    "    # We multiply each channel in the feature map array\n",
    "    # by \"how important this channel is\" with regard to the top predicted class\n",
    "    # then sum all the channels to obtain the heatmap class activation\n",
    "    last_conv_layer_output = last_conv_layer_output[0]\n",
    "    heatmap = last_conv_layer_output @ pooled_grads[..., tf.newaxis]\n",
    "    heatmap = tf.squeeze(heatmap)\n",
    "\n",
    "    # For visualization purpose, we will also normalize the heatmap between 0 & 1\n",
    "    heatmap = tf.maximum(heatmap, 0) / tf.math.reduce_max(heatmap)\n",
    "    return heatmap.numpy()\n",
    "\n",
    "def save_and_display_gradcam(img_path, heatmap, cam_path, alpha=0.4):\n",
    "    \n",
    "\n",
    "    # Load the original image\n",
    "    img = keras.preprocessing.image.load_img(img_path)\n",
    "    img = keras.preprocessing.image.img_to_array(img)\n",
    "\n",
    "    # Rescale heatmap to a range 0-255\n",
    "    heatmap = np.uint8(255 * heatmap)\n",
    "\n",
    "    # Use jet colormap to colorize heatmap\n",
    "    jet = cm.get_cmap(\"jet\")\n",
    "\n",
    "    # Use RGB values of the colormap\n",
    "    jet_colors = jet(np.arange(256))[:, :3]\n",
    "    jet_heatmap = jet_colors[heatmap]\n",
    "\n",
    "    # Create an image with RGB colorized heatmap\n",
    "    jet_heatmap = keras.preprocessing.image.array_to_img(jet_heatmap)\n",
    "    jet_heatmap = jet_heatmap.resize((img.shape[1], img.shape[0]))\n",
    "    jet_heatmap = keras.preprocessing.image.img_to_array(jet_heatmap)\n",
    "\n",
    "    # Superimpose the heatmap on original image\n",
    "    superimposed_img = jet_heatmap * alpha + img\n",
    "    superimposed_img = keras.preprocessing.image.array_to_img(superimposed_img)\n",
    "\n",
    "    # Save the superimposed image\n",
    "    superimposed_img.save(cam_path)\n",
    "\n",
    "    # Display Grad CAM\n",
    "    #display(Image(cam_path))\n",
    "    img=mpimg.imread(cam_path)\n",
    "    plt.imshow(img)\n",
    "    plt.show()"
   ]
  },
  {
   "cell_type": "markdown",
   "id": "0e34c4de-85ad-4ce6-8215-139579960320",
   "metadata": {
    "tags": []
   },
   "source": [
    "## model"
   ]
  },
  {
   "cell_type": "code",
   "execution_count": 4,
   "id": "9098b0c1-1a13-4b07-b6a0-ee481dda6c61",
   "metadata": {},
   "outputs": [
    {
     "name": "stderr",
     "output_type": "stream",
     "text": [
      "2022-09-27 09:16:47.379436: I tensorflow/core/platform/cpu_feature_guard.cc:151] This TensorFlow binary is optimized with oneAPI Deep Neural Network Library (oneDNN) to use the following CPU instructions in performance-critical operations:  AVX2 FMA\n",
      "To enable them in other operations, rebuild TensorFlow with the appropriate compiler flags.\n"
     ]
    }
   ],
   "source": [
    "fname = os.path.join (v_workspace,\"saved_model\")\n",
    "savedModel = os.path.join(v_workspace, \"saved_model\")\n",
    "savedWeights = os.path.join(v_workspace,\"saved_weights\",\"weights\")\n",
    "\n",
    "model= keras.models.load_model(savedModel)\n",
    "last_conv_layer_name = \"Conv_1\"\n",
    "# model.summary()"
   ]
  },
  {
   "cell_type": "markdown",
   "id": "8450d366-20f9-45cc-a5d6-4fe6ebb179d2",
   "metadata": {},
   "source": [
    "## Input with Processing "
   ]
  },
  {
   "cell_type": "code",
   "execution_count": 5,
   "id": "b905bd48-01ea-4356-bf08-5d2ed385f29e",
   "metadata": {},
   "outputs": [],
   "source": [
    "\n",
    "\n",
    "picturefile=\"sample_img/almond2.jpg\"\n",
    "gradcamfile=gen_file_name(picturefile)\n",
    "\n",
    "    \n",
    "img=mpimg.imread(picturefile)\n",
    "img_obj = image.load_img(picturefile, target_size=v_image_size)  \n",
    "\n",
    "# step: preprocess\n",
    "   \n",
    "img_array = image.img_to_array(img_obj)\n",
    "img_batch = np.expand_dims(img_array, axis=0)  \n",
    "\n",
    "\n",
    "img_processed=keras.applications.mobilenet_v2.preprocess_input(img_batch)"
   ]
  },
  {
   "cell_type": "markdown",
   "id": "55c8c324-d241-4c1e-ad9d-cc941e3e49c4",
   "metadata": {},
   "source": [
    "## Predict"
   ]
  },
  {
   "cell_type": "code",
   "execution_count": 6,
   "id": "89c3e8f0-93a7-4ffb-871d-5180a4371912",
   "metadata": {},
   "outputs": [
    {
     "name": "stderr",
     "output_type": "stream",
     "text": [
      "/Users/muhammadaasem/opt/anaconda3/envs/tfcpu/lib/python3.9/site-packages/keras/engine/training_v1.py:2079: UserWarning: `Model.state_updates` will be removed in a future version. This property should not be used in TensorFlow 2.0, as `updates` are applied automatically.\n",
      "  updates=self.state_updates,\n"
     ]
    },
    {
     "name": "stdout",
     "output_type": "stream",
     "text": [
      "Prediction: almond\n"
     ]
    }
   ],
   "source": [
    "preds = model.predict(img_processed)\n",
    "predictions=np.argmax(preds,axis=1)\n",
    "\n",
    "fname_indices = os.path.join (v_workspace,\"class_indices.json\")\n",
    "class_indices=load_JSON_file(fname_indices)\n",
    "predicted_class_name=class_indices[str(predictions[0])]\n",
    "print('Prediction:', predicted_class_name)"
   ]
  },
  {
   "cell_type": "markdown",
   "id": "0e483e1f-4b08-45e5-abfc-3b44b532a4fe",
   "metadata": {},
   "source": [
    "## GradCAM and GradCAM++"
   ]
  },
  {
   "cell_type": "raw",
   "id": "38ceb520-1db7-45ca-ad36-9f3841cc698b",
   "metadata": {},
   "source": [
    "\n",
    "heatmap = make_gradcam_heatmap(img_processed, model, last_conv_layer_name)\n",
    "save_and_display_gradcam(img_path= picturefile, heatmap= heatmap,cam_path= cam_path)"
   ]
  },
  {
   "cell_type": "code",
   "execution_count": 7,
   "id": "b2453b35-6d24-438b-8319-7025bb02a62b",
   "metadata": {},
   "outputs": [],
   "source": [
    "gradcam=gradcamutils.grad_cam(model,img_processed,layer_name=last_conv_layer_name)"
   ]
  },
  {
   "cell_type": "code",
   "execution_count": 8,
   "id": "3b95ea85-0232-4203-b0f3-3b17aaa3b6f1",
   "metadata": {},
   "outputs": [
    {
     "name": "stderr",
     "output_type": "stream",
     "text": [
      "/Users/muhammadaasem/dev-python/boxed_ml_light/gradcamutils.py:62: RuntimeWarning: invalid value encountered in true_divide\n",
      "  alphas /= alpha_normalization_constant.reshape((1,1,conv_first_grad[0].shape[2]))\n"
     ]
    }
   ],
   "source": [
    "gradcamplus=gradcamutils.grad_cam_plus(model,img_processed,layer_name=last_conv_layer_name)"
   ]
  },
  {
   "cell_type": "code",
   "execution_count": 9,
   "id": "963f52a6-80cc-40ff-91cc-9d59af01c72e",
   "metadata": {},
   "outputs": [
    {
     "name": "stdout",
     "output_type": "stream",
     "text": [
      "class activation map for: almond\n"
     ]
    },
    {
     "data": {
      "image/png": "[encoded data removed]",
      "text/plain": [
       "<Figure size 432x288 with 3 Axes>"
      ]
     },
     "metadata": {
      "needs_background": "light"
     },
     "output_type": "display_data"
    }
   ],
   "source": [
    "\n",
    "#print(path)\n",
    "print(\"class activation map for:\",predicted_class_name)\n",
    "fig, ax = plt.subplots(nrows=1,ncols=3)\n",
    "plt.subplot(131)\n",
    "plt.imshow(img_obj)\n",
    "plt.title(\"input image\")\n",
    "plt.subplot(132)\n",
    "plt.imshow(img_obj)\n",
    "plt.imshow(gradcam,alpha=0.8,cmap=\"jet\")\n",
    "plt.title(\"Grad-CAM\")\n",
    "plt.subplot(133)\n",
    "plt.imshow(img_obj)\n",
    "plt.imshow(gradcamplus,alpha=0.8,cmap=\"jet\")\n",
    "plt.title(\"Grad-CAM++\")\n",
    "plt.show()"
   ]
  },
  {
   "cell_type": "code",
   "execution_count": null,
   "id": "65d17d31-47ac-49f9-93ba-cf32b8362f33",
   "metadata": {},
   "outputs": [],
   "source": []
  },
  {
   "cell_type": "code",
   "execution_count": null,
   "id": "33bac630-b644-4aa4-abf5-0d0d27fdbe1c",
   "metadata": {},
   "outputs": [],
   "source": []
  }
 ],
 "metadata": {
  "kernelspec": {
   "display_name": "Python 3 (ipykernel)",
   "language": "python",
   "name": "python3"
  },
  "language_info": {
   "codemirror_mode": {
    "name": "ipython",
    "version": 3
   },
   "file_extension": ".py",
   "mimetype": "text/x-python",
   "name": "python",
   "nbconvert_exporter": "python",
   "pygments_lexer": "ipython3",
   "version": "3.9.10"
  }
 },
 "nbformat": 4,
 "nbformat_minor": 5
}
